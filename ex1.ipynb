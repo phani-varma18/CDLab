{
  "nbformat": 4,
  "nbformat_minor": 0,
  "metadata": {
    "colab": {
      "provenance": [],
      "authorship_tag": "ABX9TyNynTV6ncNHDCXaCZzb7tiB",
      "include_colab_link": true
    },
    "kernelspec": {
      "name": "python3",
      "display_name": "Python 3"
    },
    "language_info": {
      "name": "python"
    }
  },
  "cells": [
    {
      "cell_type": "markdown",
      "metadata": {
        "id": "view-in-github",
        "colab_type": "text"
      },
      "source": [
        "<a href=\"https://colab.research.google.com/github/phani-varma18/CDLab/blob/main/ex1.ipynb\" target=\"_parent\"><img src=\"https://colab.research.google.com/assets/colab-badge.svg\" alt=\"Open In Colab\"/></a>"
      ]
    },
    {
      "cell_type": "code",
      "execution_count": null,
      "metadata": {
        "id": "59879Nb_OXHT"
      },
      "outputs": [],
      "source": [
        "keywords = {\"auto\",\"break\",\"case\",\"char\",\"const\",\"continue\",\"default\",\"do\",\"double\",\"else\",\"enum\",\"extern\",\"float\",\"for\",\"goto\",\"if\",\"int\",\"long\",\"register\",\"return\",\"short\",\"signed\",\"sizeof\",\"static\",\"struct\",\"switch\",\"typedef\",\"union\",\"unsigned\",\"void\",\"volatile\",\"while\",\"printf\",\"scanf\",\"%d\",\"include\",\"stdio.h\",\"main\"}"
      ]
    },
    {
      "cell_type": "code",
      "source": [
        "operators = {\"+\",\"-\",\"*\",\"/\",\"<\",\">\",\"=\",\"<=\",\">=\",\"==\",\"!=\",\"++\",\"--\",\"%\"}"
      ],
      "metadata": {
        "id": "Pyif_HsAQssc"
      },
      "execution_count": null,
      "outputs": []
    },
    {
      "cell_type": "code",
      "source": [
        "delimiters = {'(',')','{','}','[',']','\"',\"'\",';','#',',',''}"
      ],
      "metadata": {
        "id": "2-tnpad1Qt2f"
      },
      "execution_count": null,
      "outputs": []
    },
    {
      "cell_type": "code",
      "source": [
        "def detect_keywords(text):\n",
        "\tarr = []\n",
        "\tfor word in text:\n",
        "\t\tif word in keywords:\n",
        "\t\t\tarr.append(word)\n",
        "\treturn list(set(arr))\n",
        "\n",
        "def detect_operators(text):\n",
        "\tarr = []\n",
        "\tfor word in text:\n",
        "\t\tif word in operators:\n",
        "\t\t\tarr.append(word)\n",
        "\treturn list(set(arr))\n",
        "\n",
        "def detect_delimiters(text):\n",
        "\tarr = []\n",
        "\tfor word in text:\n",
        "\t\tif word in delimiters:\n",
        "\t\t\tarr.append(word)\n",
        "\treturn list(set(arr))\n",
        "\n",
        "def detect_num(text):\n",
        "\tarr = []\n",
        "\tfor word in text:\n",
        "\t\ttry:\n",
        "\t\t\ta = int(word)\n",
        "\t\t\tarr.append(word)\n",
        "\t\texcept:\n",
        "\t\t\tpass\n",
        "\treturn list(set(arr))\n",
        "def detect_identifiers(text):\n",
        "\tk = detect_keywords(text)\n",
        "\to = detect_operators(text)\n",
        "\td = detect_delimiters(text)\n",
        "\tn = detect_num(text)\n",
        "\tnot_ident = k + o + d + n\n",
        "\tarr = []\n",
        "\tfor word in text:\n",
        "\t\tif word not in not_ident:\n",
        "\t\t\tarr.append(word)\n",
        "\treturn arr\n",
        "\n",
        "with open('/content/drive/MyDrive/cd.txt') as t:\n",
        "\ttext = t.read().split()\n",
        "\n",
        "print(\"Keywords: \",detect_keywords(text))\n",
        "print(\"Operators: \",detect_operators(text))\n",
        "print(\"Delimiters: \",detect_delimiters(text))\n",
        "print(\"Identifiers: \",detect_identifiers(text))\n",
        "print(\"Numbers: \",detect_num(text))"
      ],
      "metadata": {
        "id": "CPKuxfv4RHpc",
        "outputId": "dd8927ca-0e67-4196-878a-940c51acb43a",
        "colab": {
          "base_uri": "https://localhost:8080/"
        }
      },
      "execution_count": null,
      "outputs": [
        {
          "output_type": "stream",
          "name": "stdout",
          "text": [
            "Keywords:  ['for']\n",
            "Operators:  []\n",
            "Delimiters:  []\n",
            "Identifiers:  ['A', 'compiler', 'translates', 'the', 'code', 'written', 'in', 'one', 'language', 'to', 'some', 'other', 'language', 'without', 'changing', 'the', 'meaning', 'of', 'the', 'program.', 'It', 'is', 'also', 'expected', 'that', 'a', 'compiler', 'should', 'make', 'the', 'target', 'code', 'efficient', 'and', 'optimized', 'in', 'terms', 'of', 'time', 'and', 'space.', 'Compiler', 'design', 'principles', 'provide', 'an', 'in-depth', 'view', 'of', 'translation', 'and', 'optimization', 'process.', 'Compiler', 'design', 'covers', 'basic', 'translation', 'mechanism', 'and', 'error', 'detection', '&', 'recovery.', 'It', 'includes', 'lexical,', 'syntax,', 'and', 'semantic', 'analysis', 'as', 'front', 'end,', 'and', 'code', 'generation', 'and', 'optimization', 'as', 'back-end.', 'Computers', 'are', 'a', 'balanced', 'mix', 'of', 'software', 'and', 'hardware.', 'Hardware', 'is', 'just', 'a', 'piece', 'of', 'mechanical', 'device', 'and', 'its', 'functions', 'are', 'being', 'controlled', 'by', 'a', 'compatible', 'software.', 'Hardware', 'understands', 'instructions', 'in', 'the', 'form', 'of', 'electronic', 'charge,', 'which', 'is', 'the', 'counterpart', 'of', 'binary', 'language', 'in', 'software', 'programming.', 'Binary', 'language', 'has', 'only', 'two', 'alphabets,', 'and', '1.', 'To', 'instruct,', 'the', 'hardware', 'codes', 'must', 'be', 'written', 'in', 'binary', 'format,', 'which', 'is', 'simply', 'a', 'series', 'of', '1s', 'and', '0s.', 'It', 'would', 'be', 'a', 'difficult', 'and', 'cumbersome', 'task', 'computer', 'programmers', 'to', 'write', 'such', 'codes,', 'which', 'is', 'why', 'we', 'have', 'compilers', 'to', 'write', 'such', 'codes.']\n",
            "Numbers:  ['0']\n"
          ]
        }
      ]
    }
  ]
}